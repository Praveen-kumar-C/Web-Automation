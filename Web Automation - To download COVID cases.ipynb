{
 "cells": [
  {
   "cell_type": "code",
   "execution_count": 1,
   "metadata": {},
   "outputs": [],
   "source": [
    "import selenium\n",
    "\n",
    "from selenium import webdriver"
   ]
  },
  {
   "cell_type": "code",
   "execution_count": 2,
   "metadata": {},
   "outputs": [],
   "source": [
    "driver = webdriver.Chrome()\n",
    "driver.get ('https://github.com/CSSEGISandData/COVID-19')\n",
    "\n",
    "code_button = driver.find_element_by_xpath('//*[@id=\"js-repo-pjax-container\"]/div[2]/div/div[2]/div[1]/div[1]/span/get-repo/details/summary')\n",
    "\n",
    "code_button.click()\n",
    "\n",
    "download_zip = driver.find_element_by_xpath('//*[@id=\"js-repo-pjax-container\"]/div[2]/div/div[2]/div[1]/div[1]/span/get-repo/details/div/div/div[1]/ul/li[2]/a')\n",
    "\n",
    "download_zip.click()\n",
    "\n",
    "#driver.close() # To Close the driver connection\n",
    "\n",
    "#driver.quit() # To Close the browser\n",
    "\n",
    "\n",
    "#'//*[@id=\"js-repo-pjax-container\"]/div[2]/div/div[2]/div[1]/div[1]/span/get-repo/details/div/div/div[1]/ul/li[2]/a'"
   ]
  },
  {
   "cell_type": "code",
   "execution_count": null,
   "metadata": {},
   "outputs": [],
   "source": []
  },
  {
   "cell_type": "code",
   "execution_count": null,
   "metadata": {},
   "outputs": [],
   "source": []
  }
 ],
 "metadata": {
  "kernelspec": {
   "display_name": "Python 3",
   "language": "python",
   "name": "python3"
  },
  "language_info": {
   "codemirror_mode": {
    "name": "ipython",
    "version": 3
   },
   "file_extension": ".py",
   "mimetype": "text/x-python",
   "name": "python",
   "nbconvert_exporter": "python",
   "pygments_lexer": "ipython3",
   "version": "3.7.4"
  }
 },
 "nbformat": 4,
 "nbformat_minor": 4
}
